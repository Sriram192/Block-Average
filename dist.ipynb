{
 "cells": [
  {
   "cell_type": "code",
   "execution_count": 12,
   "metadata": {},
   "outputs": [],
   "source": [
    "import numpy as np\n",
    "import matplotlib.pyplot as plt \n",
    "from matplotlib import rc\n",
    "rc('font',**{'family':'sans-serif','sans-serif':['Helvetica']})\n",
    "#rc('font',**{'family':'serif','serif':['Times']})\n",
    "rc('text', usetex=True)"
   ]
  },
  {
   "cell_type": "code",
   "execution_count": 13,
   "metadata": {},
   "outputs": [],
   "source": [
    "line_counter = 0\n",
    "dist_mean = []\n",
    "dist_std = []\n",
    "frame_dist = []\n",
    "with open(\"dump.dist\",\"r\") as file1:\n",
    "    for line in file1.readlines():\n",
    "        line_counter = line_counter + 1 \n",
    "        if (line_counter >= 10) & (line_counter <= 329):\n",
    "            f_list = [float(i) for i in line.split()]\n",
    "            frame_dist.append(f_list[-1])\n",
    "        if (line_counter == 330):\n",
    "            dist_mean.append(np.mean(frame_dist))\n",
    "            dist_std.append(np.std(frame_dist))\n",
    "            frame_dist = []\n",
    "            line_counter = 1\n",
    "     \n",
    "            "
   ]
  },
  {
   "cell_type": "code",
   "execution_count": 14,
   "metadata": {},
   "outputs": [],
   "source": [
    "def Block_Average(data,Max_block_Size=2):\n",
    "    block_Mean = np.zeros(Max_block_Size)\n",
    "    block_Var = np.zeros(Max_block_Size)\n",
    "    block_sig = np.zeros(Max_block_Size)\n",
    "    block_Err = np.zeros(Max_block_Size)\n",
    "    Size = np.arange(1,Max_block_Size+1)\n",
    "    for block_Size in Size:\n",
    "        Nb = int(len(data)/block_Size)\n",
    "        b_mean = np.zeros(Nb)\n",
    "        for j in range(1,Nb+1):\n",
    "            ibeg = (j-1) * block_Size\n",
    "            iend = ibeg + block_Size\n",
    "            b_mean[j-1] = np.mean(data[ibeg:iend])\n",
    "        block_Mean[block_Size-1] = np.mean(b_mean)\n",
    "        block_Var[block_Size-1] = np.var(b_mean)/(Nb-1)\n",
    "        block_sig[block_Size-1] = np.sqrt(block_Var[block_Size-1])\n",
    "        block_Err[block_Size-1] = block_sig[block_Size-1]/np.sqrt(Nb)\n",
    "    return Size,block_Mean,block_sig,block_Err"
   ]
  },
  {
   "cell_type": "code",
   "execution_count": 15,
   "metadata": {},
   "outputs": [
    {
     "name": "stdout",
     "output_type": "stream",
     "text": [
      "6.47474307240846  +-  0.013221507337024646\n"
     ]
    }
   ],
   "source": [
    "size,m,s,e = Block_Average(dist_mean,15)\n",
    "print(m[-1],\" +- \",s[-1])"
   ]
  },
  {
   "cell_type": "code",
   "execution_count": 16,
   "metadata": {},
   "outputs": [],
   "source": [
    "f = open('dist.dat','w')\n",
    "print(\"Average end-to-end distance\",file=f)\n",
    "print(m[-1],\" +- \",s[-1],file = f)\n",
    "f.close()"
   ]
  }
 ],
 "metadata": {
  "interpreter": {
   "hash": "b3ba2566441a7c06988d0923437866b63cedc61552a5af99d1f4fb67d367b25f"
  },
  "kernelspec": {
   "display_name": "Python 3.8.5 64-bit ('base': conda)",
   "name": "python3"
  },
  "language_info": {
   "codemirror_mode": {
    "name": "ipython",
    "version": 3
   },
   "file_extension": ".py",
   "mimetype": "text/x-python",
   "name": "python",
   "nbconvert_exporter": "python",
   "pygments_lexer": "ipython3",
   "version": "3.8.5"
  },
  "orig_nbformat": 4
 },
 "nbformat": 4,
 "nbformat_minor": 2
}
