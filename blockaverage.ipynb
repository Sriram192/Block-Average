{
    "cells": [
        {
            "cell_type": "code",
            "execution_count": 1,
            "source": [
                "import numpy as np \n",
                "import matplotlib.pyplot as plt"
            ],
            "outputs": [],
            "metadata": {}
        },
        {
            "cell_type": "code",
            "execution_count": 6,
            "source": [
                "allData = np.genfromtxt('visc_vs_time.txt')\n",
                "data = allData[:,1]\n",
                "time = allData[:,0]"
            ],
            "outputs": [],
            "metadata": {}
        },
        {
            "cell_type": "code",
            "execution_count": 8,
            "source": [
                "def Block_Average(data,Max_block_Size):\n",
                "    block_Mean = np.zeros(Max_block_Size)\n",
                "    block_Var = np.zeros(Max_block_Size)\n",
                "    block_sig = np.zeros(Max_block_Size)\n",
                "    block_Err = np.zeros(Max_block_Size)\n",
                "    Size = np.arange(1,Max_block_Size+1)\n",
                "    for block_Size in Size:\n",
                "        Nb = int(len(data)/block_Size)\n",
                "        b_mean = np.zeros(Nb)\n",
                "        for j in range(1,Nb+1):\n",
                "            ibeg = (j-1) * block_Size\n",
                "            iend =  ibeg + block_Size\n",
                "            b_mean[j-1] = np.mean(data[ibeg:iend])\n",
                "        block_Mean[block_Size-1] = np.mean(b_mean)\n",
                "        block_Var[block_Size-1] = np.var(b_mean)/(Nb-1)\n",
                "        block_sig[block_Size-1] = np.sqrt(block_Var[block_Size-1])\n",
                "        block_Err[block_Size-1] = block_sig[block_Size-1]/np.sqrt(Nb)\n",
                "    return Size,block_Mean,block_sig,block_Err"
            ],
            "outputs": [],
            "metadata": {}
        },
        {
            "cell_type": "code",
            "execution_count": 13,
            "source": [
                "Max_block_Size = 2\n",
                "size,b_mean,b_sig,b_err = Block_Average(data,Max_block_Size)"
            ],
            "outputs": [],
            "metadata": {}
        },
        {
            "cell_type": "code",
            "execution_count": 15,
            "source": [
                "fig = plt.figure()\n",
                "ax = fig.add_axes([0.15,0.15,0.80,0.78])\n",
                "ax.errorbar(size,b_mean,yerr = b_sig,fmt = 'o',capsize = 2,alpha = 0.9)\n",
                "plt.xlabel('block_size')\n",
                "plt.ylabel('mean_viscosity')\n",
                "plt.savefig('blockaverage_test.png')\n",
                "plt.show()"
            ],
            "outputs": [
                {
                    "output_type": "display_data",
                    "data": {
                        "text/plain": [
                            "<Figure size 432x288 with 1 Axes>"
                        ],
                        "image/png": "[encoded data removed]"
                    },
                    "metadata": {
                        "needs_background": "light"
                    }
                }
            ],
            "metadata": {}
        },
        {
            "cell_type": "code",
            "execution_count": null,
            "source": [],
            "outputs": [],
            "metadata": {}
        }
    ],
    "metadata": {
        "orig_nbformat": 4,
        "language_info": {
            "name": "python",
            "version": "3.9.2",
            "mimetype": "text/x-python",
            "codemirror_mode": {
                "name": "ipython",
                "version": 3
            },
            "pygments_lexer": "ipython3",
            "nbconvert_exporter": "python",
            "file_extension": ".py"
        },
        "kernelspec": {
            "name": "python3",
            "display_name": "Python 3.9.2 64-bit ('mdanalysis_env': venv)"
        },
        "interpreter": {
            "hash": "784c3cd3b96926b405b7f66f0f9fd3e8a3b9ddebc8ce9f3471e2285378cd16bf"
        }
    },
    "nbformat": 4,
    "nbformat_minor": 2
}