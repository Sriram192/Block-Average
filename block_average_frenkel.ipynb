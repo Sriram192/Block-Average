{
 "cells": [
  {
   "cell_type": "code",
   "execution_count": 5,
   "metadata": {},
   "outputs": [],
   "source": [
    "import numpy as np \n",
    "import matplotlib.pyplot as plt \n",
    "import math"
   ]
  },
  {
   "cell_type": "code",
   "execution_count": 60,
   "metadata": {},
   "outputs": [],
   "source": [
    "data = np.genfromtxt(\"visc_vs_time.txt\")\n",
    "time = data[:,0]\n",
    "visc = data[:,1]"
   ]
  },
  {
   "cell_type": "code",
   "execution_count": 16,
   "metadata": {},
   "outputs": [],
   "source": [
    "def block(vector):\n",
    "    n = len(vector)\n",
    "    n_prime = math.ceil(int(n/2))\n",
    "    x_prime = np.zeros(n_prime)\n",
    "    for i in range(0,n_prime):\n",
    "        x_prime[i] = 0.5*(vector[2*i] + vector[2*i+1])\n",
    "    return x_prime,n_prime"
   ]
  },
  {
   "cell_type": "code",
   "execution_count": 70,
   "metadata": {},
   "outputs": [
    {
     "data": {
      "image/png": "[encoded data removed]",
      "text/plain": [
       "<Figure size 432x288 with 1 Axes>"
      ]
     },
     "metadata": {
      "needs_background": "light"
     },
     "output_type": "display_data"
    }
   ],
   "source": [
    "n_prime = math.ceil(int(len(data)/2))\n",
    "temp_vec = visc\n",
    "count = []\n",
    "var_test = []\n",
    "sig_test = []\n",
    "i=0\n",
    "while n_prime>2:\n",
    "    t_vec,n_prime = block(temp_vec)\n",
    "    var_test.append(np.var(t_vec)/(n_prime-1))\n",
    "    sig_test.append(np.std(t_vec)/np.sqrt(n_prime-1))\n",
    "    temp_vec = t_vec\n",
    "    i = i+1\n",
    "    count.append(i)\n",
    "plt.plot(count,sig_test,'o')\n",
    "plt.ylabel('std-deviation')\n",
    "plt.xticks(np.arange(1,count[-1]+1,2))\n",
    "plt.xlabel('block operation No.')\n",
    "plt.savefig('block.png',dpi = 600)"
   ]
  },
  {
   "cell_type": "code",
   "execution_count": null,
   "metadata": {},
   "outputs": [],
   "source": []
  }
 ],
 "metadata": {
  "interpreter": {
   "hash": "b3ba2566441a7c06988d0923437866b63cedc61552a5af99d1f4fb67d367b25f"
  },
  "kernelspec": {
   "display_name": "Python 3.8.5 64-bit ('base': conda)",
   "name": "python3"
  },
  "language_info": {
   "codemirror_mode": {
    "name": "ipython",
    "version": 3
   },
   "file_extension": ".py",
   "mimetype": "text/x-python",
   "name": "python",
   "nbconvert_exporter": "python",
   "pygments_lexer": "ipython3",
   "version": "3.8.5"
  },
  "orig_nbformat": 4
 },
 "nbformat": 4,
 "nbformat_minor": 2
}
